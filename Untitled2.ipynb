{
  "nbformat": 4,
  "nbformat_minor": 0,
  "metadata": {
    "colab": {
      "provenance": [],
      "authorship_tag": "ABX9TyMxpl77GlhOyw0fcm2T45US",
      "include_colab_link": true
    },
    "kernelspec": {
      "name": "python3",
      "display_name": "Python 3"
    },
    "language_info": {
      "name": "python"
    }
  },
  "cells": [
    {
      "cell_type": "markdown",
      "metadata": {
        "id": "view-in-github",
        "colab_type": "text"
      },
      "source": [
        "<a href=\"https://colab.research.google.com/github/gpdbs9409/DAP/blob/main/Untitled2.ipynb\" target=\"_parent\"><img src=\"https://colab.research.google.com/assets/colab-badge.svg\" alt=\"Open In Colab\"/></a>"
      ]
    },
    {
      "cell_type": "code",
      "execution_count": 33,
      "metadata": {
        "colab": {
          "base_uri": "https://localhost:8080/"
        },
        "id": "Up5Y-lLeypCu",
        "outputId": "e0fe8c4c-34f0-467a-85d8-edcdf52d8bc6"
      },
      "outputs": [
        {
          "output_type": "stream",
          "name": "stdout",
          "text": [
            "26\n"
          ]
        }
      ],
      "source": [
        "import random\n",
        "findNumber=random.randrange(1,100)\n",
        "sum=0\n",
        "for i in range(1,101):\n",
        "    if i==findNumber:\n",
        "        print(i)\n",
        "        break"
      ]
    },
    {
      "cell_type": "code",
      "source": [
        "number=int(input())"
      ],
      "metadata": {
        "colab": {
          "base_uri": "https://localhost:8080/"
        },
        "id": "VFuupfr_yxpz",
        "outputId": "9e768690-6167-4855-d351-9e2dc262404c"
      },
      "execution_count": 34,
      "outputs": [
        {
          "name": "stdout",
          "output_type": "stream",
          "text": [
            "3\n"
          ]
        }
      ]
    },
    {
      "cell_type": "code",
      "source": [
        "num=[0]*(100001)\n",
        "\n",
        "for i in range(number):\n",
        "  num[i]=int(input())"
      ],
      "metadata": {
        "colab": {
          "base_uri": "https://localhost:8080/"
        },
        "id": "aJr3DfyP1LjE",
        "outputId": "8903b947-12f7-4f95-c4c0-fcaf3d0d0001"
      },
      "execution_count": 35,
      "outputs": [
        {
          "name": "stdout",
          "output_type": "stream",
          "text": [
            "1\n",
            "23\n",
            "3\n"
          ]
        }
      ]
    },
    {
      "cell_type": "code",
      "source": [
        "for i in range(number):\n",
        "  sum +=num[i]\n",
        "\n",
        "print(sum)"
      ],
      "metadata": {
        "colab": {
          "base_uri": "https://localhost:8080/"
        },
        "id": "jga7gqWE1rxK",
        "outputId": "a4737a27-b335-406f-f3ca-26583e5ff527"
      },
      "execution_count": 36,
      "outputs": [
        {
          "output_type": "stream",
          "name": "stdout",
          "text": [
            "3\n"
          ]
        }
      ]
    },
    {
      "cell_type": "code",
      "source": [
        "cnt=int(input())"
      ],
      "metadata": {
        "colab": {
          "base_uri": "https://localhost:8080/"
        },
        "id": "9I1av4gy2Edq",
        "outputId": "dbf891a3-8d00-4ce9-8502-019218939601"
      },
      "execution_count": 37,
      "outputs": [
        {
          "name": "stdout",
          "output_type": "stream",
          "text": [
            "5\n"
          ]
        }
      ]
    },
    {
      "cell_type": "code",
      "source": [
        "score=[]\n",
        "\n",
        "for i in range(cnt):\n",
        "  score.append(int(input()))"
      ],
      "metadata": {
        "colab": {
          "base_uri": "https://localhost:8080/"
        },
        "id": "oW_-UvzG3DAf",
        "outputId": "e8b8ea79-4185-46df-a0ae-9f35fc4177a2"
      },
      "execution_count": 47,
      "outputs": [
        {
          "name": "stdout",
          "output_type": "stream",
          "text": [
            "4\n",
            "4\n",
            "4\n",
            "4\n",
            "4\n"
          ]
        }
      ]
    },
    {
      "cell_type": "code",
      "source": [
        "totalsum=0\n",
        "for i in range(cnt):\n",
        "  totalsum+=score[i]"
      ],
      "metadata": {
        "id": "LboUlDer3P7d"
      },
      "execution_count": 48,
      "outputs": []
    },
    {
      "cell_type": "code",
      "source": [],
      "metadata": {
        "id": "sYKHoULo30Xa"
      },
      "execution_count": null,
      "outputs": []
    }
  ]
}